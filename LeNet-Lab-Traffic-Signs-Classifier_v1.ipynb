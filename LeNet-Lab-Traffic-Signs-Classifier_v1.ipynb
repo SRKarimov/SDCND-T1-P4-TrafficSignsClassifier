{
 "cells": [
  {
   "cell_type": "markdown",
   "metadata": {},
   "source": [
    "# LeNet Lab Solution\n",
    "![LeNet Architecture](lenet.png)\n",
    "Source: Yan LeCun"
   ]
  },
  {
   "cell_type": "markdown",
   "metadata": {},
   "source": [
    "## Load Data\n",
    "\n",
    "Load the MNIST data, which comes pre-loaded with TensorFlow.\n",
    "\n",
    "You do not need to modify this section."
   ]
  },
  {
   "cell_type": "code",
   "execution_count": 1,
   "metadata": {
    "collapsed": true
   },
   "outputs": [],
   "source": [
    "# Load pickled data\n",
    "import pickle\n",
    "\n",
    "# TODO: Fill this in based on where you saved the training and testing data\n",
    "\n",
    "training_file = 'traffic-signs-data/train.p'\n",
    "# validation_file= 'traffic-signs-data/valid.p'\n",
    "testing_file = 'traffic-signs-data/test.p'\n",
    "\n",
    "with open(training_file, mode='rb') as f:\n",
    "    train = pickle.load(f)\n",
    "# with open(validation_file, mode='rb') as f:\n",
    "#    valid = pickle.load(f)\n",
    "with open(testing_file, mode='rb') as f:\n",
    "    test = pickle.load(f)\n",
    "\n",
    "X_train, y_train = train['features'], train['labels']\n",
    "# X_validation, y_validation = valid['features'], valid['labels']\n",
    "X_test, y_test = test['features'], test['labels']"
   ]
  },
  {
   "cell_type": "code",
   "execution_count": 2,
   "metadata": {},
   "outputs": [
    {
     "name": "stdout",
     "output_type": "stream",
     "text": [
      "27839 27839\n"
     ]
    }
   ],
   "source": [
    "from sklearn.model_selection import train_test_split\n",
    "\n",
    "X_train, X_validation, y_train, y_validation = train_test_split(X_train, y_train, test_size = 0.2, random_state = 777)\n",
    "print(len(X_train), len(y_train))"
   ]
  },
  {
   "cell_type": "code",
   "execution_count": 3,
   "metadata": {
    "collapsed": true
   },
   "outputs": [],
   "source": [
    "import numpy as np\n",
    "from skimage import exposure\n",
    "from skimage import color\n",
    "\n",
    "def preprocessor_image(img):\n",
    "    image = exposure.equalize_adapthist(img, clip_limit = 0.03)\n",
    "#    img = color.rgb2gray(image).reshape(image.shape[0], image.shape[1], 1)\n",
    "    return image \n",
    "    \n",
    "def preprocessor_data(data):\n",
    "    return np.array([preprocessor_image(image) for image in data])"
   ]
  },
  {
   "cell_type": "code",
   "execution_count": null,
   "metadata": {
    "collapsed": true
   },
   "outputs": [],
   "source": [
    "# img = preprocessor_image(X_train[45]).reshape(X_train[45].shape[0], X_train[45].shape[1], 1)"
   ]
  },
  {
   "cell_type": "code",
   "execution_count": null,
   "metadata": {
    "collapsed": true
   },
   "outputs": [],
   "source": [
    "# img.shape"
   ]
  },
  {
   "cell_type": "code",
   "execution_count": 4,
   "metadata": {},
   "outputs": [
    {
     "name": "stderr",
     "output_type": "stream",
     "text": [
      "/home/carnd/anaconda3/envs/carnd-term1/lib/python3.5/site-packages/skimage/util/dtype.py:122: UserWarning: Possible precision loss when converting from float64 to uint16\n",
      "  .format(dtypeobj_in, dtypeobj_out))\n"
     ]
    }
   ],
   "source": [
    "X_train = preprocessor_data(X_train)\n",
    "X_validation = preprocessor_data(X_validation)\n",
    "X_test = preprocessor_data(X_test)"
   ]
  },
  {
   "cell_type": "code",
   "execution_count": 5,
   "metadata": {
    "collapsed": true
   },
   "outputs": [],
   "source": [
    "X_train_saved = np.copy(X_train)\n",
    "X_validation_saved = np.copy(X_validation)\n",
    "X_test_saved = np.copy(X_test)"
   ]
  },
  {
   "cell_type": "code",
   "execution_count": 6,
   "metadata": {},
   "outputs": [
    {
     "name": "stdout",
     "output_type": "stream",
     "text": [
      "12\n",
      "0.0 1.0\n"
     ]
    },
    {
     "data": {
      "image/png": "[encoded data removed]",
      "text/plain": [
       "<matplotlib.figure.Figure at 0x7f44863c9898>"
      ]
     },
     "metadata": {},
     "output_type": "display_data"
    }
   ],
   "source": [
    "import random\n",
    "import numpy as np\n",
    "import matplotlib.pyplot as plt\n",
    "%matplotlib inline\n",
    "\n",
    "index = random.randint(0, len(X_train))\n",
    "image = X_train[index].squeeze()\n",
    "\n",
    "plt.figure(figsize=(1,1))\n",
    "plt.imshow(image)\n",
    "print(y_train[index])\n",
    "print(image.min(), image.max())"
   ]
  },
  {
   "cell_type": "code",
   "execution_count": 7,
   "metadata": {},
   "outputs": [
    {
     "name": "stdout",
     "output_type": "stream",
     "text": [
      "(32, 32, 3)\n",
      "12\n",
      "0.0 1.0\n"
     ]
    },
    {
     "data": {
      "image/png": "[encoded data removed]",
      "text/plain": [
       "<matplotlib.figure.Figure at 0x7f448b282a20>"
      ]
     },
     "metadata": {},
     "output_type": "display_data"
    }
   ],
   "source": [
    "# img = preprocessor_image(X_train[index])\n",
    "print(X_train[index].shape)\n",
    "plt.figure(figsize=(1,1))\n",
    "plt.imshow(X_train[index].squeeze())\n",
    "print(y_train[index])\n",
    "print(image.min(), image.max())"
   ]
  },
  {
   "cell_type": "code",
   "execution_count": 8,
   "metadata": {},
   "outputs": [
    {
     "name": "stdout",
     "output_type": "stream",
     "text": [
      "\n",
      "Image Shape: (32, 32, 3)\n",
      "\n",
      "Training Set:   27839 samples\n",
      "Validation Set: 6960 samples\n",
      "Test Set:       12630 samples\n"
     ]
    }
   ],
   "source": [
    "assert(len(X_train) == len(y_train))\n",
    "assert(len(X_validation) == len(y_validation))\n",
    "assert(len(X_test) == len(y_test))\n",
    "\n",
    "print()\n",
    "print(\"Image Shape: {}\".format(X_train[0].shape))\n",
    "print()\n",
    "print(\"Training Set:   {} samples\".format(len(X_train)))\n",
    "print(\"Validation Set: {} samples\".format(len(X_validation)))\n",
    "print(\"Test Set:       {} samples\".format(len(X_test)))"
   ]
  },
  {
   "cell_type": "markdown",
   "metadata": {},
   "source": [
    "## Visualize Data\n",
    "\n",
    "View a sample from the dataset.\n",
    "\n",
    "You do not need to modify this section."
   ]
  },
  {
   "cell_type": "code",
   "execution_count": 9,
   "metadata": {},
   "outputs": [
    {
     "name": "stdout",
     "output_type": "stream",
     "text": [
      "9\n"
     ]
    },
    {
     "data": {
      "image/png": "[encoded data removed]",
      "text/plain": [
       "<matplotlib.figure.Figure at 0x7f448b19ae80>"
      ]
     },
     "metadata": {},
     "output_type": "display_data"
    }
   ],
   "source": [
    "import random\n",
    "import numpy as np\n",
    "import matplotlib.pyplot as plt\n",
    "%matplotlib inline\n",
    "\n",
    "index = random.randint(0, len(X_train))\n",
    "image = X_train[index].squeeze()\n",
    "\n",
    "plt.figure(figsize=(1,1))\n",
    "plt.imshow(image)\n",
    "print(y_train[index])"
   ]
  },
  {
   "cell_type": "markdown",
   "metadata": {},
   "source": [
    "## Preprocess Data\n",
    "\n",
    "Shuffle the training data.\n",
    "\n",
    "You do not need to modify this section."
   ]
  },
  {
   "cell_type": "code",
   "execution_count": 10,
   "metadata": {
    "collapsed": true
   },
   "outputs": [],
   "source": [
    "from sklearn.utils import shuffle\n",
    "\n",
    "X_train, y_train = shuffle(X_train, y_train)"
   ]
  },
  {
   "cell_type": "markdown",
   "metadata": {},
   "source": [
    "## Setup TensorFlow\n",
    "The `EPOCH` and `BATCH_SIZE` values affect the training speed and model accuracy.\n",
    "\n",
    "You do not need to modify this section."
   ]
  },
  {
   "cell_type": "code",
   "execution_count": 11,
   "metadata": {
    "collapsed": true
   },
   "outputs": [],
   "source": [
    "import tensorflow as tf\n",
    "\n",
    "EPOCHS = 2\n",
    "BATCH_SIZE = 128"
   ]
  },
  {
   "cell_type": "markdown",
   "metadata": {},
   "source": [
    "## SOLUTION: Implement LeNet-5\n",
    "Implement the [LeNet-5](http://yann.lecun.com/exdb/lenet/) neural network architecture.\n",
    "\n",
    "This is the only cell you need to edit.\n",
    "### Input\n",
    "The LeNet architecture accepts a 32x32xC image as input, where C is the number of color channels. Since MNIST images are grayscale, C is 1 in this case.\n",
    "\n",
    "### Architecture\n",
    "**Layer 1: Convolutional.** The output shape should be 28x28x6.\n",
    "\n",
    "**Activation.** Your choice of activation function.\n",
    "\n",
    "**Pooling.** The output shape should be 14x14x6.\n",
    "\n",
    "**Layer 2: Convolutional.** The output shape should be 10x10x16.\n",
    "\n",
    "**Activation.** Your choice of activation function.\n",
    "\n",
    "**Pooling.** The output shape should be 5x5x16.\n",
    "\n",
    "**Flatten.** Flatten the output shape of the final pooling layer such that it's 1D instead of 3D. The easiest way to do is by using `tf.contrib.layers.flatten`, which is already imported for you.\n",
    "\n",
    "**Layer 3: Fully Connected.** This should have 120 outputs.\n",
    "\n",
    "**Activation.** Your choice of activation function.\n",
    "\n",
    "**Layer 4: Fully Connected.** This should have 84 outputs.\n",
    "\n",
    "**Activation.** Your choice of activation function.\n",
    "\n",
    "**Layer 5: Fully Connected (Logits).** This should have 10 outputs.\n",
    "\n",
    "### Output\n",
    "Return the result of the 2nd fully connected layer."
   ]
  },
  {
   "cell_type": "code",
   "execution_count": 12,
   "metadata": {
    "collapsed": true
   },
   "outputs": [],
   "source": [
    "from tensorflow.contrib.layers import flatten\n",
    "\n",
    "def LeNet(x):    \n",
    "    # Arguments used for tf.truncated_normal, randomly defines variables for the weights and biases for each layer\n",
    "    mu = 0\n",
    "    sigma = 0.1\n",
    "    \n",
    "    # SOLUTION: Layer 1: Convolutional. Input = 32x32x1. Output = 28x28x6.\n",
    "    conv1_W = tf.Variable(tf.truncated_normal(shape=(5, 5, 3, 6), mean = mu, stddev = sigma))\n",
    "    conv1_b = tf.Variable(tf.zeros(6))\n",
    "    conv1   = tf.nn.conv2d(x, conv1_W, strides=[1, 1, 1, 1], padding='VALID') + conv1_b\n",
    "\n",
    "    # SOLUTION: Activation.\n",
    "    conv1 = tf.nn.relu(conv1)\n",
    "\n",
    "    # SOLUTION: Pooling. Input = 28x28x6. Output = 14x14x6.\n",
    "    conv1 = tf.nn.max_pool(conv1, ksize=[1, 2, 2, 1], strides=[1, 2, 2, 1], padding='VALID')\n",
    "\n",
    "    # SOLUTION: Layer 2: Convolutional. Output = 10x10x16.\n",
    "    conv2_W = tf.Variable(tf.truncated_normal(shape=(5, 5, 6, 16), mean = mu, stddev = sigma))\n",
    "    conv2_b = tf.Variable(tf.zeros(16))\n",
    "    conv2   = tf.nn.conv2d(conv1, conv2_W, strides=[1, 1, 1, 1], padding='VALID') + conv2_b\n",
    "    \n",
    "    # SOLUTION: Activation.\n",
    "    conv2 = tf.nn.relu(conv2)\n",
    "\n",
    "    # SOLUTION: Pooling. Input = 10x10x16. Output = 5x5x16.\n",
    "    conv2 = tf.nn.max_pool(conv2, ksize=[1, 2, 2, 1], strides=[1, 2, 2, 1], padding='VALID')\n",
    "\n",
    "    # SOLUTION: Flatten. Input = 5x5x16. Output = 400.\n",
    "    fc0   = flatten(conv2)\n",
    "    \n",
    "    # SOLUTION: Layer 3: Fully Connected. Input = 400. Output = 120.\n",
    "    fc1_W = tf.Variable(tf.truncated_normal(shape=(400, 120), mean = mu, stddev = sigma))\n",
    "    fc1_b = tf.Variable(tf.zeros(120))\n",
    "    fc1   = tf.matmul(fc0, fc1_W) + fc1_b\n",
    "    \n",
    "    # SOLUTION: Activation.\n",
    "    fc1    = tf.nn.relu(fc1)\n",
    "\n",
    "    # SOLUTION: Layer 4: Fully Connected. Input = 120. Output = 84.\n",
    "    fc2_W  = tf.Variable(tf.truncated_normal(shape=(120, 84), mean = mu, stddev = sigma))\n",
    "    fc2_b  = tf.Variable(tf.zeros(84))\n",
    "    fc2    = tf.matmul(fc1, fc2_W) + fc2_b\n",
    "    \n",
    "    # SOLUTION: Activation.\n",
    "    fc2    = tf.nn.relu(fc2)\n",
    "\n",
    "    # SOLUTION: Layer 5: Fully Connected. Input = 84. Output = 10.\n",
    "    fc3_W  = tf.Variable(tf.truncated_normal(shape=(84, 43), mean = mu, stddev = sigma))\n",
    "    fc3_b  = tf.Variable(tf.zeros(43))\n",
    "    logits = tf.matmul(fc2, fc3_W) + fc3_b\n",
    "    \n",
    "    return logits"
   ]
  },
  {
   "cell_type": "code",
   "execution_count": 16,
   "metadata": {
    "collapsed": true
   },
   "outputs": [],
   "source": [
    "from tensorflow.contrib.layers import flatten\n",
    "\n",
    "def KsrNet(x):    \n",
    "    # Arguments used for tf.truncated_normal, randomly defines variables for the weights and biases for each layer\n",
    "    mu = 0\n",
    "    sigma = 0.1\n",
    "    \n",
    "    # SOLUTION: Layer 1: Convolutional. Input = 32x32x3. Output = 30x30x32.\n",
    "    conv1_W = tf.Variable(tf.truncated_normal(shape=(3, 3, 3, 32), mean = mu, stddev = sigma))\n",
    "    conv1_b = tf.Variable(tf.zeros(32))\n",
    "    conv1   = tf.nn.conv2d(x, conv1_W, strides=[1, 1, 1, 1], padding='VALID') + conv1_b\n",
    "\n",
    "    # SOLUTION: Activation.\n",
    "    conv1 = tf.nn.relu(conv1)\n",
    "\n",
    "    # SOLUTION: Layer 1: Convolutional. Input = 30x30x32. Output = 28x28x64.\n",
    "    conv1a_W = tf.Variable(tf.truncated_normal(shape=(3, 3, 32, 64), mean = mu, stddev = sigma))\n",
    "    conv1a_b = tf.Variable(tf.zeros(64))\n",
    "    conv1a   = tf.nn.conv2d(conv1, conv1a_W, strides=[1, 1, 1, 1], padding='VALID') + conv1a_b\n",
    "\n",
    "    # SOLUTION: Activation.\n",
    "    conv1a = tf.nn.relu(conv1a)\n",
    "\n",
    "    # SOLUTION: Pooling. Input = 28x28x64. Output = 14x14x64.\n",
    "    conv1a = tf.nn.max_pool(conv1a, ksize=[1, 2, 2, 1], strides=[1, 2, 2, 1], padding='VALID')\n",
    "\n",
    "    # SOLUTION: Layer 2: Convolutional. Output = 10x10x128.\n",
    "    conv2_W = tf.Variable(tf.truncated_normal(shape=(5, 5, 64, 128), mean = mu, stddev = sigma))\n",
    "    conv2_b = tf.Variable(tf.zeros(128))\n",
    "    conv2   = tf.nn.conv2d(conv1a, conv2_W, strides=[1, 1, 1, 1], padding='VALID') + conv2_b\n",
    "    \n",
    "    # SOLUTION: Activation.\n",
    "    conv2 = tf.nn.relu(conv2)\n",
    "\n",
    "    # SOLUTION: Pooling. Input = 10x10x128. Output = 5x5x128.\n",
    "    conv2 = tf.nn.max_pool(conv2, ksize=[1, 2, 2, 1], strides=[1, 2, 2, 1], padding='VALID')\n",
    "\n",
    "    # SOLUTION: Flatten. Input = 5x5x128. Output = 3200.\n",
    "    fc0   = flatten(conv2)\n",
    "    \n",
    "    # SOLUTION: Layer 3: Fully Connected. Input = 3200. Output = 1024.\n",
    "    fc1_W = tf.Variable(tf.truncated_normal(shape=(3200, 1024), mean = mu, stddev = sigma))\n",
    "    fc1_b = tf.Variable(tf.zeros(1024))\n",
    "    fc1   = tf.matmul(fc0, fc1_W) + fc1_b\n",
    "    \n",
    "    # SOLUTION: Activation.\n",
    "    fc1    = tf.nn.relu(fc1)\n",
    "\n",
    "    # SOLUTION: Layer 3: Fully Connected. Input = 3200. Output = 1024.\n",
    "    fc1a_W = tf.Variable(tf.truncated_normal(shape=(1024, 120), mean = mu, stddev = sigma))\n",
    "    fc1a_b = tf.Variable(tf.zeros(120))\n",
    "    fc1a   = tf.matmul(fc1, fc1a_W) + fc1a_b\n",
    "    \n",
    "    # SOLUTION: Activation.\n",
    "    fc1a    = tf.nn.relu(fc1a)\n",
    "\n",
    "    # SOLUTION: Layer 4: Fully Connected. Input = 120. Output = 84.\n",
    "    fc2_W  = tf.Variable(tf.truncated_normal(shape=(120, 84), mean = mu, stddev = sigma))\n",
    "    fc2_b  = tf.Variable(tf.zeros(84))\n",
    "    fc2    = tf.matmul(fc1a, fc2_W) + fc2_b\n",
    "    \n",
    "    # SOLUTION: Activation.\n",
    "    fc2    = tf.nn.relu(fc2)\n",
    "\n",
    "    # SOLUTION: Layer 5: Fully Connected. Input = 84. Output = 10.\n",
    "    fc3_W  = tf.Variable(tf.truncated_normal(shape=(84, 43), mean = mu, stddev = sigma))\n",
    "    fc3_b  = tf.Variable(tf.zeros(43))\n",
    "    logits = tf.matmul(fc2, fc3_W) + fc3_b\n",
    "    \n",
    "    return logits"
   ]
  },
  {
   "cell_type": "markdown",
   "metadata": {},
   "source": [
    "## Features and Labels\n",
    "Train LeNet to classify [MNIST](http://yann.lecun.com/exdb/mnist/) data.\n",
    "\n",
    "`x` is a placeholder for a batch of input images.\n",
    "`y` is a placeholder for a batch of output labels.\n",
    "\n",
    "You do not need to modify this section."
   ]
  },
  {
   "cell_type": "code",
   "execution_count": 17,
   "metadata": {
    "collapsed": true
   },
   "outputs": [],
   "source": [
    "x = tf.placeholder(tf.float32, (None, 32, 32, 3))\n",
    "y = tf.placeholder(tf.int32, (None))\n",
    "one_hot_y = tf.one_hot(y, 43)"
   ]
  },
  {
   "cell_type": "markdown",
   "metadata": {},
   "source": [
    "## Training Pipeline\n",
    "Create a training pipeline that uses the model to classify MNIST data.\n",
    "\n",
    "You do not need to modify this section."
   ]
  },
  {
   "cell_type": "code",
   "execution_count": 18,
   "metadata": {
    "collapsed": true
   },
   "outputs": [],
   "source": [
    "rate = 0.001\n",
    "\n",
    "logits = KsrNet(x)\n",
    "cross_entropy = tf.nn.softmax_cross_entropy_with_logits(labels=one_hot_y, logits=logits)\n",
    "loss_operation = tf.reduce_mean(cross_entropy)\n",
    "optimizer = tf.train.AdamOptimizer(learning_rate = rate)\n",
    "training_operation = optimizer.minimize(loss_operation)"
   ]
  },
  {
   "cell_type": "markdown",
   "metadata": {},
   "source": [
    "## Model Evaluation\n",
    "Evaluate how well the loss and accuracy of the model for a given dataset.\n",
    "\n",
    "You do not need to modify this section."
   ]
  },
  {
   "cell_type": "code",
   "execution_count": 19,
   "metadata": {
    "collapsed": true
   },
   "outputs": [],
   "source": [
    "correct_prediction = tf.equal(tf.argmax(logits, 1), tf.argmax(one_hot_y, 1))\n",
    "accuracy_operation = tf.reduce_mean(tf.cast(correct_prediction, tf.float32))\n",
    "saver = tf.train.Saver()\n",
    "\n",
    "def evaluate(X_data, y_data):\n",
    "    num_examples = len(X_data)\n",
    "    total_accuracy = 0\n",
    "    sess = tf.get_default_session()\n",
    "    for offset in range(0, num_examples, BATCH_SIZE):\n",
    "        batch_x, batch_y = X_data[offset:offset+BATCH_SIZE], y_data[offset:offset+BATCH_SIZE]\n",
    "        accuracy = sess.run(accuracy_operation, feed_dict={x: batch_x, y: batch_y})\n",
    "        total_accuracy += (accuracy * len(batch_x))\n",
    "    return total_accuracy / num_examples"
   ]
  },
  {
   "cell_type": "markdown",
   "metadata": {},
   "source": [
    "## Train the Model\n",
    "Run the training data through the training pipeline to train the model.\n",
    "\n",
    "Before each epoch, shuffle the training set.\n",
    "\n",
    "After each epoch, measure the loss and accuracy of the validation set.\n",
    "\n",
    "Save the model after training.\n",
    "\n",
    "You do not need to modify this section."
   ]
  },
  {
   "cell_type": "code",
   "execution_count": 20,
   "metadata": {},
   "outputs": [
    {
     "name": "stdout",
     "output_type": "stream",
     "text": [
      "Training...\n",
      "\n",
      "EPOCH 1 ...\n",
      "Validation Accuracy = 0.964\n",
      "\n",
      "EPOCH 2 ...\n",
      "Validation Accuracy = 0.979\n",
      "\n",
      "EPOCH 3 ...\n",
      "Validation Accuracy = 0.990\n",
      "\n",
      "EPOCH 4 ...\n",
      "Validation Accuracy = 0.985\n",
      "\n",
      "EPOCH 5 ...\n",
      "Validation Accuracy = 0.987\n",
      "\n",
      "EPOCH 6 ...\n",
      "Validation Accuracy = 0.986\n",
      "\n",
      "EPOCH 7 ...\n",
      "Validation Accuracy = 0.991\n",
      "\n",
      "EPOCH 8 ...\n",
      "Validation Accuracy = 0.990\n",
      "\n",
      "EPOCH 9 ...\n",
      "Validation Accuracy = 0.985\n",
      "\n",
      "EPOCH 10 ...\n",
      "Validation Accuracy = 0.990\n",
      "\n",
      "EPOCH 11 ...\n",
      "Validation Accuracy = 0.983\n",
      "\n",
      "EPOCH 12 ...\n",
      "Validation Accuracy = 0.980\n",
      "\n",
      "EPOCH 13 ...\n",
      "Validation Accuracy = 0.988\n",
      "\n",
      "EPOCH 14 ...\n",
      "Validation Accuracy = 0.984\n",
      "\n",
      "EPOCH 15 ...\n",
      "Validation Accuracy = 0.993\n",
      "\n",
      "EPOCH 16 ...\n",
      "Validation Accuracy = 0.995\n",
      "\n",
      "EPOCH 17 ...\n",
      "Validation Accuracy = 0.985\n",
      "\n",
      "EPOCH 18 ...\n",
      "Validation Accuracy = 0.991\n",
      "\n",
      "EPOCH 19 ...\n",
      "Validation Accuracy = 0.992\n",
      "\n",
      "EPOCH 20 ...\n",
      "Validation Accuracy = 0.993\n",
      "\n",
      "EPOCH 21 ...\n",
      "Validation Accuracy = 0.986\n",
      "\n",
      "EPOCH 22 ...\n",
      "Validation Accuracy = 0.993\n",
      "\n",
      "EPOCH 23 ...\n",
      "Validation Accuracy = 0.994\n",
      "\n",
      "EPOCH 24 ...\n",
      "Validation Accuracy = 0.994\n",
      "\n",
      "EPOCH 25 ...\n",
      "Validation Accuracy = 0.995\n",
      "\n",
      "EPOCH 26 ...\n",
      "Validation Accuracy = 0.996\n",
      "\n",
      "EPOCH 27 ...\n",
      "Validation Accuracy = 0.996\n",
      "\n",
      "EPOCH 28 ...\n",
      "Validation Accuracy = 0.996\n",
      "\n",
      "EPOCH 29 ...\n",
      "Validation Accuracy = 0.996\n",
      "\n",
      "EPOCH 30 ...\n",
      "Validation Accuracy = 0.996\n",
      "\n",
      "EPOCH 31 ...\n",
      "Validation Accuracy = 0.996\n",
      "\n",
      "EPOCH 32 ...\n",
      "Validation Accuracy = 0.996\n",
      "\n",
      "EPOCH 33 ...\n",
      "Validation Accuracy = 0.996\n",
      "\n",
      "EPOCH 34 ...\n",
      "Validation Accuracy = 0.996\n",
      "\n",
      "EPOCH 35 ...\n",
      "Validation Accuracy = 0.996\n",
      "\n",
      "EPOCH 36 ...\n",
      "Validation Accuracy = 0.996\n",
      "\n",
      "EPOCH 37 ...\n",
      "Validation Accuracy = 0.996\n",
      "\n",
      "EPOCH 38 ...\n",
      "Validation Accuracy = 0.996\n",
      "\n",
      "EPOCH 39 ...\n",
      "Validation Accuracy = 0.996\n",
      "\n",
      "EPOCH 40 ...\n",
      "Validation Accuracy = 0.996\n",
      "\n",
      "EPOCH 41 ...\n",
      "Validation Accuracy = 0.996\n",
      "\n",
      "EPOCH 42 ...\n",
      "Validation Accuracy = 0.997\n",
      "\n",
      "EPOCH 43 ...\n",
      "Validation Accuracy = 0.997\n",
      "\n",
      "EPOCH 44 ...\n",
      "Validation Accuracy = 0.997\n",
      "\n",
      "EPOCH 45 ...\n",
      "Validation Accuracy = 0.997\n",
      "\n",
      "EPOCH 46 ...\n",
      "Validation Accuracy = 0.997\n",
      "\n",
      "EPOCH 47 ...\n",
      "Validation Accuracy = 0.997\n",
      "\n",
      "EPOCH 48 ...\n",
      "Validation Accuracy = 0.997\n",
      "\n",
      "EPOCH 49 ...\n",
      "Validation Accuracy = 0.997\n",
      "\n",
      "EPOCH 50 ...\n",
      "Validation Accuracy = 0.997\n",
      "\n",
      "EPOCH 51 ...\n",
      "Validation Accuracy = 0.997\n",
      "\n",
      "EPOCH 52 ...\n",
      "Validation Accuracy = 0.997\n",
      "\n",
      "EPOCH 53 ...\n",
      "Validation Accuracy = 0.997\n",
      "\n",
      "EPOCH 54 ...\n",
      "Validation Accuracy = 0.997\n",
      "\n",
      "EPOCH 55 ...\n",
      "Validation Accuracy = 0.997\n",
      "\n",
      "EPOCH 56 ...\n",
      "Validation Accuracy = 0.997\n",
      "\n",
      "EPOCH 57 ...\n",
      "Validation Accuracy = 0.997\n",
      "\n",
      "EPOCH 58 ...\n",
      "Validation Accuracy = 0.997\n",
      "\n",
      "EPOCH 59 ...\n",
      "Validation Accuracy = 0.997\n",
      "\n",
      "EPOCH 60 ...\n",
      "Validation Accuracy = 0.997\n",
      "\n",
      "EPOCH 61 ...\n",
      "Validation Accuracy = 0.997\n",
      "\n",
      "EPOCH 62 ...\n",
      "Validation Accuracy = 0.997\n",
      "\n",
      "EPOCH 63 ...\n",
      "Validation Accuracy = 0.997\n",
      "\n",
      "EPOCH 64 ...\n",
      "Validation Accuracy = 0.997\n",
      "\n",
      "EPOCH 65 ...\n",
      "Validation Accuracy = 0.997\n",
      "\n",
      "EPOCH 66 ...\n",
      "Validation Accuracy = 0.997\n",
      "\n",
      "EPOCH 67 ...\n",
      "Validation Accuracy = 0.997\n",
      "\n",
      "EPOCH 68 ...\n",
      "Validation Accuracy = 0.997\n",
      "\n",
      "EPOCH 69 ...\n",
      "Validation Accuracy = 0.997\n",
      "\n",
      "EPOCH 70 ...\n",
      "Validation Accuracy = 0.997\n",
      "\n",
      "EPOCH 71 ...\n",
      "Validation Accuracy = 0.997\n",
      "\n",
      "EPOCH 72 ...\n",
      "Validation Accuracy = 0.997\n",
      "\n",
      "EPOCH 73 ...\n",
      "Validation Accuracy = 0.997\n",
      "\n",
      "EPOCH 74 ...\n",
      "Validation Accuracy = 0.997\n",
      "\n",
      "EPOCH 75 ...\n",
      "Validation Accuracy = 0.997\n",
      "\n",
      "EPOCH 76 ...\n",
      "Validation Accuracy = 0.997\n",
      "\n",
      "EPOCH 77 ...\n",
      "Validation Accuracy = 0.997\n",
      "\n",
      "EPOCH 78 ...\n",
      "Validation Accuracy = 0.997\n",
      "\n",
      "EPOCH 79 ...\n",
      "Validation Accuracy = 0.997\n",
      "\n",
      "EPOCH 80 ...\n",
      "Validation Accuracy = 0.997\n",
      "\n",
      "EPOCH 81 ...\n",
      "Validation Accuracy = 0.997\n",
      "\n",
      "EPOCH 82 ...\n",
      "Validation Accuracy = 0.997\n",
      "\n",
      "EPOCH 83 ...\n",
      "Validation Accuracy = 0.997\n",
      "\n",
      "EPOCH 84 ...\n",
      "Validation Accuracy = 0.997\n",
      "\n",
      "EPOCH 85 ...\n",
      "Validation Accuracy = 0.997\n",
      "\n",
      "EPOCH 86 ...\n",
      "Validation Accuracy = 0.997\n",
      "\n",
      "EPOCH 87 ...\n",
      "Validation Accuracy = 0.997\n",
      "\n",
      "EPOCH 88 ...\n",
      "Validation Accuracy = 0.997\n",
      "\n",
      "EPOCH 89 ...\n",
      "Validation Accuracy = 0.997\n",
      "\n",
      "EPOCH 90 ...\n",
      "Validation Accuracy = 0.997\n",
      "\n",
      "EPOCH 91 ...\n",
      "Validation Accuracy = 0.997\n",
      "\n",
      "EPOCH 92 ...\n",
      "Validation Accuracy = 0.997\n",
      "\n",
      "EPOCH 93 ...\n",
      "Validation Accuracy = 0.997\n",
      "\n",
      "EPOCH 94 ...\n",
      "Validation Accuracy = 0.997\n",
      "\n",
      "EPOCH 95 ...\n",
      "Validation Accuracy = 0.997\n",
      "\n",
      "EPOCH 96 ...\n",
      "Validation Accuracy = 0.997\n",
      "\n",
      "EPOCH 97 ...\n",
      "Validation Accuracy = 0.997\n",
      "\n",
      "EPOCH 98 ...\n",
      "Validation Accuracy = 0.997\n",
      "\n",
      "EPOCH 99 ...\n",
      "Validation Accuracy = 0.997\n",
      "\n",
      "EPOCH 100 ...\n",
      "Validation Accuracy = 0.997\n",
      "\n",
      "EPOCH 101 ...\n",
      "Validation Accuracy = 0.997\n",
      "\n",
      "EPOCH 102 ...\n",
      "Validation Accuracy = 0.997\n",
      "\n",
      "EPOCH 103 ...\n",
      "Validation Accuracy = 0.997\n",
      "\n",
      "EPOCH 104 ...\n",
      "Validation Accuracy = 0.997\n",
      "\n",
      "EPOCH 105 ...\n",
      "Validation Accuracy = 0.997\n",
      "\n",
      "EPOCH 106 ...\n",
      "Validation Accuracy = 0.997\n",
      "\n",
      "EPOCH 107 ...\n",
      "Validation Accuracy = 0.997\n",
      "\n",
      "EPOCH 108 ...\n",
      "Validation Accuracy = 0.997\n",
      "\n",
      "EPOCH 109 ...\n",
      "Validation Accuracy = 0.997\n",
      "\n",
      "EPOCH 110 ...\n",
      "Validation Accuracy = 0.997\n",
      "\n",
      "EPOCH 111 ...\n",
      "Validation Accuracy = 0.997\n",
      "\n",
      "EPOCH 112 ...\n",
      "Validation Accuracy = 0.997\n",
      "\n",
      "EPOCH 113 ...\n",
      "Validation Accuracy = 0.997\n",
      "\n",
      "EPOCH 114 ...\n",
      "Validation Accuracy = 0.997\n",
      "\n",
      "EPOCH 115 ...\n",
      "Validation Accuracy = 0.997\n",
      "\n",
      "EPOCH 116 ...\n",
      "Validation Accuracy = 0.997\n",
      "\n",
      "EPOCH 117 ...\n",
      "Validation Accuracy = 0.997\n",
      "\n",
      "EPOCH 118 ...\n",
      "Validation Accuracy = 0.997\n",
      "\n",
      "EPOCH 119 ...\n",
      "Validation Accuracy = 0.997\n",
      "\n",
      "EPOCH 120 ...\n",
      "Validation Accuracy = 0.997\n",
      "\n",
      "EPOCH 121 ...\n",
      "Validation Accuracy = 0.997\n",
      "\n",
      "EPOCH 122 ...\n",
      "Validation Accuracy = 0.997\n",
      "\n",
      "EPOCH 123 ...\n",
      "Validation Accuracy = 0.997\n",
      "\n",
      "EPOCH 124 ...\n",
      "Validation Accuracy = 0.997\n",
      "\n",
      "EPOCH 125 ...\n",
      "Validation Accuracy = 0.997\n",
      "\n",
      "EPOCH 126 ...\n",
      "Validation Accuracy = 0.997\n",
      "\n",
      "EPOCH 127 ...\n",
      "Validation Accuracy = 0.996\n",
      "\n",
      "EPOCH 128 ...\n",
      "Validation Accuracy = 0.996\n",
      "\n",
      "Model saved\n"
     ]
    }
   ],
   "source": [
    "import time\n",
    "\n",
    "with tf.Session() as sess:\n",
    "    sess.run(tf.global_variables_initializer())\n",
    "    num_examples = len(X_train)\n",
    "    \n",
    "    print(\"Training...\")\n",
    "    start_total_time = time.time()\n",
    "    print()\n",
    "    for i in range(EPOCHS):\n",
    "        start_epoch_time = time.time()\n",
    "        X_train, y_train = shuffle(X_train, y_train)\n",
    "        for offset in range(0, num_examples, BATCH_SIZE):\n",
    "            end = offset + BATCH_SIZE\n",
    "            batch_x, batch_y = X_train[offset:end], y_train[offset:end]\n",
    "            sess.run(training_operation, feed_dict={x: batch_x, y: batch_y})\n",
    "            \n",
    "        validation_accuracy = evaluate(X_validation, y_validation)\n",
    "        end_epoch_time = time.time()\n",
    "        print(\"EPOCH {}: {}\".format(i + 1, end_epoch_time - start_epoch_time)\n",
    "        print(\"Validation Accuracy = {:.3f}\".format(validation_accuracy))\n",
    "        print()\n",
    "    end_total_time = time.time() \n",
    "    print(\"Total time: {}\".format(end_total_time - start_total_time))\n",
    "    saver.save(sess, './lenet')\n",
    "    print(\"Model saved\")"
   ]
  },
  {
   "cell_type": "markdown",
   "metadata": {},
   "source": [
    "## Evaluate the Model\n",
    "Once you are completely satisfied with your model, evaluate the performance of the model on the test set.\n",
    "\n",
    "Be sure to only do this once!\n",
    "\n",
    "If you were to measure the performance of your trained model on the test set, then improve your model, and then measure the performance of your model on the test set again, that would invalidate your test results. You wouldn't get a true measure of how well your model would perform against real data.\n",
    "\n",
    "You do not need to modify this section."
   ]
  },
  {
   "cell_type": "code",
   "execution_count": 21,
   "metadata": {},
   "outputs": [
    {
     "name": "stdout",
     "output_type": "stream",
     "text": [
      "Test Accuracy = 0.971\n"
     ]
    }
   ],
   "source": [
    "with tf.Session() as sess:\n",
    "    saver.restore(sess, tf.train.latest_checkpoint('.'))\n",
    "\n",
    "    test_accuracy = evaluate(X_test, y_test)\n",
    "    print(\"Test Accuracy = {:.3f}\".format(test_accuracy))"
   ]
  },
  {
   "cell_type": "code",
   "execution_count": null,
   "metadata": {
    "collapsed": true
   },
   "outputs": [],
   "source": [
    "sess.close()"
   ]
  }
 ],
 "metadata": {
  "anaconda-cloud": {},
  "kernelspec": {
   "display_name": "Python 3",
   "language": "python",
   "name": "python3"
  },
  "language_info": {
   "codemirror_mode": {
    "name": "ipython",
    "version": 3
   },
   "file_extension": ".py",
   "mimetype": "text/x-python",
   "name": "python",
   "nbconvert_exporter": "python",
   "pygments_lexer": "ipython3",
   "version": "3.5.3"
  },
  "widgets": {
   "state": {},
   "version": "1.1.2"
  }
 },
 "nbformat": 4,
 "nbformat_minor": 1
}
